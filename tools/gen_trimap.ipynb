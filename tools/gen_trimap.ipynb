{
 "cells": [
  {
   "cell_type": "code",
   "execution_count": 3,
   "metadata": {},
   "outputs": [],
   "source": [
    "import cv2\n",
    "import numpy as np\n",
    "\n",
    "def generate_trimap(alpha, k_size=3, iterations=5):\n",
    "    kernel = cv2.getStructuringElement(cv2.MORPH_ELLIPSE, (k_size, k_size))\n",
    "    fg = np.array(np.equal(alpha, 255).astype(np.float32))\n",
    "    unknown = np.array(np.not_equal(alpha, 0).astype(np.float32))\n",
    "    unknown = cv2.dilate(unknown, kernel, iterations=iterations)\n",
    "    trimap = fg * 255 + (unknown - fg) * 128\n",
    "    return trimap.astype(np.uint8)\n"
   ]
  },
  {
   "cell_type": "code",
   "execution_count": 8,
   "metadata": {},
   "outputs": [
    {
     "name": "stdout",
     "output_type": "stream",
     "text": [
      "test_0.png\n",
      "test_1.png\n",
      "test_10.png\n",
      "test_11.png\n",
      "test_12.png\n",
      "test_13.png\n",
      "test_14.png\n",
      "test_15.png\n",
      "test_16.png\n",
      "test_17.png\n",
      "test_18.png\n",
      "test_19.png\n",
      "test_2.png\n",
      "test_20.png\n",
      "test_21.png\n",
      "test_22.png\n",
      "test_23.png\n",
      "test_24.png\n",
      "test_25.png\n",
      "test_26.png\n",
      "test_27.png\n",
      "test_28.png\n",
      "test_29.png\n",
      "test_3.png\n",
      "test_30.png\n",
      "test_31.png\n",
      "test_32.png\n",
      "test_33.png\n",
      "test_34.png\n",
      "test_35.png\n",
      "test_36.png\n",
      "test_37.png\n",
      "test_38.png\n",
      "test_39.png\n",
      "test_4.png\n",
      "test_40.png\n",
      "test_41.png\n",
      "test_42.png\n",
      "test_43.png\n",
      "test_44.png\n",
      "test_45.png\n",
      "test_46.png\n",
      "test_47.png\n",
      "test_48.png\n",
      "test_49.png\n",
      "test_5.png\n",
      "test_6.png\n",
      "test_7.png\n",
      "test_8.png\n",
      "test_9.png\n"
     ]
    }
   ],
   "source": [
    "import os\n",
    "import cv2\n",
    "import numpy as np\n",
    "\n",
    "# Define the input and output folders\n",
    "input_folder = '../datasets/distinct646/test/alpha'\n",
    "output_folder = '../datasets/distinct646/test/trimap'\n",
    "\n",
    "files = os.listdir(input_folder)\n",
    "\n",
    "# Process each alpha file\n",
    "for file in files:\n",
    "    print(file)\n",
    "    # Check if the file is an alpha file\n",
    "    # Read the alpha file\n",
    "    alpha_path = os.path.join(input_folder, file)\n",
    "    alpha = cv2.imread(alpha_path, cv2.IMREAD_GRAYSCALE)\n",
    "\n",
    "    # Generate the trimap\n",
    "    trimap = generate_trimap(alpha)\n",
    "\n",
    "    # Save the trimap to the output folder\n",
    "    trimap_path = os.path.join(output_folder, file.replace('.alpha', '.trimap'))\n",
    "    cv2.imwrite(trimap_path, trimap)"
   ]
  }
 ],
 "metadata": {
  "kernelspec": {
   "display_name": "paintmatting",
   "language": "python",
   "name": "python3"
  },
  "language_info": {
   "codemirror_mode": {
    "name": "ipython",
    "version": 3
   },
   "file_extension": ".py",
   "mimetype": "text/x-python",
   "name": "python",
   "nbconvert_exporter": "python",
   "pygments_lexer": "ipython3",
   "version": "3.9.19"
  }
 },
 "nbformat": 4,
 "nbformat_minor": 2
}
